{
 "cells": [
  {
   "cell_type": "code",
   "execution_count": 2,
   "id": "5e1e94b4-98e8-4930-9af8-426366742966",
   "metadata": {},
   "outputs": [
    {
     "name": "stdout",
     "output_type": "stream",
     "text": [
      "Collecting yake\n",
      "  Downloading yake-0.4.8-py2.py3-none-any.whl.metadata (4.0 kB)\n",
      "Collecting tabulate (from yake)\n",
      "  Downloading tabulate-0.9.0-py3-none-any.whl.metadata (34 kB)\n",
      "Requirement already satisfied: click>=6.0 in /opt/anaconda3/envs/sentiment_env_v35/lib/python3.8/site-packages (from yake) (8.1.7)\n",
      "Requirement already satisfied: numpy in /opt/anaconda3/envs/sentiment_env_v35/lib/python3.8/site-packages (from yake) (1.24.4)\n",
      "Collecting segtok (from yake)\n",
      "  Downloading segtok-1.5.11-py3-none-any.whl.metadata (9.0 kB)\n",
      "Requirement already satisfied: networkx in /opt/anaconda3/envs/sentiment_env_v35/lib/python3.8/site-packages (from yake) (3.1)\n",
      "Collecting jellyfish (from yake)\n",
      "  Downloading jellyfish-1.1.3-cp38-cp38-macosx_11_0_arm64.whl.metadata (2.6 kB)\n",
      "Requirement already satisfied: regex in /opt/anaconda3/envs/sentiment_env_v35/lib/python3.8/site-packages (from segtok->yake) (2021.10.23)\n",
      "Downloading yake-0.4.8-py2.py3-none-any.whl (60 kB)\n",
      "Downloading jellyfish-1.1.3-cp38-cp38-macosx_11_0_arm64.whl (311 kB)\n",
      "Downloading segtok-1.5.11-py3-none-any.whl (24 kB)\n",
      "Downloading tabulate-0.9.0-py3-none-any.whl (35 kB)\n",
      "Installing collected packages: tabulate, segtok, jellyfish, yake\n",
      "Successfully installed jellyfish-1.1.3 segtok-1.5.11 tabulate-0.9.0 yake-0.4.8\n"
     ]
    }
   ],
   "source": [
    "!pip install yake"
   ]
  },
  {
   "cell_type": "code",
   "execution_count": 83,
   "id": "936c4107-1490-43c4-ac71-be9f6a9236c1",
   "metadata": {},
   "outputs": [
    {
     "name": "stdout",
     "output_type": "stream",
     "text": [
      "MPS (GPU) is available and will be used.\n"
     ]
    }
   ],
   "source": [
    "import torch\n",
    "\n",
    "# Check if MPS (Metal Performance Shaders) is available\n",
    "if torch.backends.mps.is_available():\n",
    "    device = torch.device(\"mps\")\n",
    "    print(\"MPS (GPU) is available and will be used.\")\n",
    "else:\n",
    "    device = torch.device(\"cpu\")\n",
    "    print(\"MPS (GPU) is not available. CPU will be used.\")"
   ]
  },
  {
   "cell_type": "code",
   "execution_count": 84,
   "id": "4b2a931c-2990-448f-ad3e-4ea726aaf0f0",
   "metadata": {},
   "outputs": [],
   "source": [
    "import pandas as pd\n",
    "from transformers import AutoTokenizer, AutoModelForTokenClassification, pipeline\n",
    "import yake\n",
    "from collections import Counter\n",
    "import matplotlib.pyplot as plt\n",
    "import seaborn as sns\n",
    "import re\n",
    "import stanza\n",
    "import torch\n",
    "import string"
   ]
  },
  {
   "cell_type": "code",
   "execution_count": 85,
   "id": "99494315-499f-4486-b3a7-332341739389",
   "metadata": {},
   "outputs": [
    {
     "name": "stdout",
     "output_type": "stream",
     "text": [
      "CSV file loaded successfully.\n",
      "Columns in the CSV: ['source', 'article_url', 'title', 'date', 'shortened_full_text', 'combined_text', 'sentiment_label', 'sentiment_score', 'title_tr', 'shortened_full_text_tr']\n"
     ]
    },
    {
     "data": {
      "text/html": [
       "<div>\n",
       "<style scoped>\n",
       "    .dataframe tbody tr th:only-of-type {\n",
       "        vertical-align: middle;\n",
       "    }\n",
       "\n",
       "    .dataframe tbody tr th {\n",
       "        vertical-align: top;\n",
       "    }\n",
       "\n",
       "    .dataframe thead th {\n",
       "        text-align: right;\n",
       "    }\n",
       "</style>\n",
       "<table border=\"1\" class=\"dataframe\">\n",
       "  <thead>\n",
       "    <tr style=\"text-align: right;\">\n",
       "      <th></th>\n",
       "      <th>source</th>\n",
       "      <th>article_url</th>\n",
       "      <th>title</th>\n",
       "      <th>date</th>\n",
       "      <th>shortened_full_text</th>\n",
       "      <th>combined_text</th>\n",
       "      <th>sentiment_label</th>\n",
       "      <th>sentiment_score</th>\n",
       "      <th>title_tr</th>\n",
       "      <th>shortened_full_text_tr</th>\n",
       "    </tr>\n",
       "  </thead>\n",
       "  <tbody>\n",
       "    <tr>\n",
       "      <th>0</th>\n",
       "      <td>BBC</td>\n",
       "      <td>https://www.bbc.com/sport/football/65930883</td>\n",
       "      <td>Roberts aims to emulate Kompany as coach in fu...</td>\n",
       "      <td>24 Jun 2023</td>\n",
       "      <td>Roberts, who is in Wales' squad for Monday's E...</td>\n",
       "      <td>Roberts aims to emulate Kompany as coach in fu...</td>\n",
       "      <td>POSITIVE</td>\n",
       "      <td>0.998434</td>\n",
       "      <td>Roberts, Kompany'yi gelecekte antrenör olarak ...</td>\n",
       "      <td>Pazartesi günü Türkiye'de Euro 2024 eleme maçı...</td>\n",
       "    </tr>\n",
       "    <tr>\n",
       "      <th>1</th>\n",
       "      <td>Aljazeera</td>\n",
       "      <td>https://www.aljazeera.com/where/turkey/news/20...</td>\n",
       "      <td>World leaders congratulate Turkey’s Erdogan on...</td>\n",
       "      <td>02:40</td>\n",
       "      <td>All eyes were on NATO member Turkey ahead of i...</td>\n",
       "      <td>World leaders congratulate Turkey’s Erdogan on...</td>\n",
       "      <td>POSITIVE</td>\n",
       "      <td>0.997460</td>\n",
       "      <td>Dünya liderleri Erdoğan'ı seçim zaferinden dol...</td>\n",
       "      <td>Tüm gözler NATO üyesi Türkiye'yi Erdoğan'ın ik...</td>\n",
       "    </tr>\n",
       "    <tr>\n",
       "      <th>2</th>\n",
       "      <td>The Guardian</td>\n",
       "      <td>https://www.theguardian.com/commentisfree/2024...</td>\n",
       "      <td>The Guardian view on endangered languages: spo...</td>\n",
       "      <td>5 Apr 2024 19.25 CEST…… comments</td>\n",
       "      <td>Romeyka, which is spoken by an ageing populati...</td>\n",
       "      <td>The Guardian view on endangered languages: spo...</td>\n",
       "      <td>POSITIVE</td>\n",
       "      <td>0.979718</td>\n",
       "      <td>Tehlikedeki diller hakkında Guardian görüşü: b...</td>\n",
       "      <td>Türkiye'nin Karadeniz kıyısındaki dağ köylerin...</td>\n",
       "    </tr>\n",
       "    <tr>\n",
       "      <th>3</th>\n",
       "      <td>Aljazeera</td>\n",
       "      <td>https://www.aljazeera.com/where/turkey/news/20...</td>\n",
       "      <td>Turkey election: Your guide to how the elector...</td>\n",
       "      <td>12 May 2023</td>\n",
       "      <td>There are more than 64 million eligible voters...</td>\n",
       "      <td>Turkey election: Your guide to how the elector...</td>\n",
       "      <td>POSITIVE</td>\n",
       "      <td>0.961055</td>\n",
       "      <td>Türkiye seçimi: Seçim sisteminin nasıl çalıştı...</td>\n",
       "      <td>Türkiye'de ilk kez beş milyona yakın seçmen ol...</td>\n",
       "    </tr>\n",
       "    <tr>\n",
       "      <th>4</th>\n",
       "      <td>Aljazeera</td>\n",
       "      <td>https://www.aljazeera.com/where/turkey/news/20...</td>\n",
       "      <td>Turkey to hold presidential, parliamentary ele...</td>\n",
       "      <td>10 Mar 2023</td>\n",
       "      <td>Elections are expected to be the Turkish oppos...</td>\n",
       "      <td>Turkey to hold presidential, parliamentary ele...</td>\n",
       "      <td>NEGATIVE</td>\n",
       "      <td>0.557481</td>\n",
       "      <td>Türkiye 14 Mayıs'ta cumhurbaşkanlığı, parlamen...</td>\n",
       "      <td>Seçimlerin Türkiye muhalefetinin 20 yıl içinde...</td>\n",
       "    </tr>\n",
       "  </tbody>\n",
       "</table>\n",
       "</div>"
      ],
      "text/plain": [
       "         source                                        article_url  \\\n",
       "0           BBC        https://www.bbc.com/sport/football/65930883   \n",
       "1     Aljazeera  https://www.aljazeera.com/where/turkey/news/20...   \n",
       "2  The Guardian  https://www.theguardian.com/commentisfree/2024...   \n",
       "3     Aljazeera  https://www.aljazeera.com/where/turkey/news/20...   \n",
       "4     Aljazeera  https://www.aljazeera.com/where/turkey/news/20...   \n",
       "\n",
       "                                               title  \\\n",
       "0  Roberts aims to emulate Kompany as coach in fu...   \n",
       "1  World leaders congratulate Turkey’s Erdogan on...   \n",
       "2  The Guardian view on endangered languages: spo...   \n",
       "3  Turkey election: Your guide to how the elector...   \n",
       "4  Turkey to hold presidential, parliamentary ele...   \n",
       "\n",
       "                               date  \\\n",
       "0                       24 Jun 2023   \n",
       "1                             02:40   \n",
       "2  5 Apr 2024 19.25 CEST…… comments   \n",
       "3                       12 May 2023   \n",
       "4                       10 Mar 2023   \n",
       "\n",
       "                                 shortened_full_text  \\\n",
       "0  Roberts, who is in Wales' squad for Monday's E...   \n",
       "1  All eyes were on NATO member Turkey ahead of i...   \n",
       "2  Romeyka, which is spoken by an ageing populati...   \n",
       "3  There are more than 64 million eligible voters...   \n",
       "4  Elections are expected to be the Turkish oppos...   \n",
       "\n",
       "                                       combined_text sentiment_label  \\\n",
       "0  Roberts aims to emulate Kompany as coach in fu...        POSITIVE   \n",
       "1  World leaders congratulate Turkey’s Erdogan on...        POSITIVE   \n",
       "2  The Guardian view on endangered languages: spo...        POSITIVE   \n",
       "3  Turkey election: Your guide to how the elector...        POSITIVE   \n",
       "4  Turkey to hold presidential, parliamentary ele...        NEGATIVE   \n",
       "\n",
       "   sentiment_score                                           title_tr  \\\n",
       "0         0.998434  Roberts, Kompany'yi gelecekte antrenör olarak ...   \n",
       "1         0.997460  Dünya liderleri Erdoğan'ı seçim zaferinden dol...   \n",
       "2         0.979718  Tehlikedeki diller hakkında Guardian görüşü: b...   \n",
       "3         0.961055  Türkiye seçimi: Seçim sisteminin nasıl çalıştı...   \n",
       "4         0.557481  Türkiye 14 Mayıs'ta cumhurbaşkanlığı, parlamen...   \n",
       "\n",
       "                              shortened_full_text_tr  \n",
       "0  Pazartesi günü Türkiye'de Euro 2024 eleme maçı...  \n",
       "1  Tüm gözler NATO üyesi Türkiye'yi Erdoğan'ın ik...  \n",
       "2  Türkiye'nin Karadeniz kıyısındaki dağ köylerin...  \n",
       "3  Türkiye'de ilk kez beş milyona yakın seçmen ol...  \n",
       "4  Seçimlerin Türkiye muhalefetinin 20 yıl içinde...  "
      ]
     },
     "metadata": {},
     "output_type": "display_data"
    }
   ],
   "source": [
    "# Path to the CSV file\n",
    "csv_path = './translated_file_helsinki.csv'\n",
    "\n",
    "# Load the CSV into a pandas DataFrame\n",
    "try:\n",
    "    df = pd.read_csv(csv_path)\n",
    "    print(\"CSV file loaded successfully.\")\n",
    "    print(\"Columns in the CSV:\", df.columns.tolist())\n",
    "    display(df.head())\n",
    "except FileNotFoundError:\n",
    "    raise FileNotFoundError(f\"The file at path '{csv_path}' was not found. Please verify the path and try again.\")\n",
    "except Exception as e:\n",
    "    raise Exception(f\"An error occurred while loading the CSV file: {e}\")"
   ]
  },
  {
   "cell_type": "code",
   "execution_count": 86,
   "id": "2efbff76-cf63-4a94-b687-c01c19c76088",
   "metadata": {},
   "outputs": [
    {
     "data": {
      "text/html": [
       "<div>\n",
       "<style scoped>\n",
       "    .dataframe tbody tr th:only-of-type {\n",
       "        vertical-align: middle;\n",
       "    }\n",
       "\n",
       "    .dataframe tbody tr th {\n",
       "        vertical-align: top;\n",
       "    }\n",
       "\n",
       "    .dataframe thead th {\n",
       "        text-align: right;\n",
       "    }\n",
       "</style>\n",
       "<table border=\"1\" class=\"dataframe\">\n",
       "  <thead>\n",
       "    <tr style=\"text-align: right;\">\n",
       "      <th></th>\n",
       "      <th>title_tr</th>\n",
       "      <th>shortened_full_text_tr</th>\n",
       "      <th>title_and_text</th>\n",
       "    </tr>\n",
       "  </thead>\n",
       "  <tbody>\n",
       "    <tr>\n",
       "      <th>0</th>\n",
       "      <td>Roberts, Kompany'yi gelecekte antrenör olarak ...</td>\n",
       "      <td>Pazartesi günü Türkiye'de Euro 2024 eleme maçı...</td>\n",
       "      <td>Roberts, Kompany'yi gelecekte antrenör olarak ...</td>\n",
       "    </tr>\n",
       "    <tr>\n",
       "      <th>1</th>\n",
       "      <td>Dünya liderleri Erdoğan'ı seçim zaferinden dol...</td>\n",
       "      <td>Tüm gözler NATO üyesi Türkiye'yi Erdoğan'ın ik...</td>\n",
       "      <td>Dünya liderleri Erdoğan'ı seçim zaferinden dol...</td>\n",
       "    </tr>\n",
       "    <tr>\n",
       "      <th>2</th>\n",
       "      <td>Tehlikedeki diller hakkında Guardian görüşü: b...</td>\n",
       "      <td>Türkiye'nin Karadeniz kıyısındaki dağ köylerin...</td>\n",
       "      <td>Tehlikedeki diller hakkında Guardian görüşü: b...</td>\n",
       "    </tr>\n",
       "    <tr>\n",
       "      <th>3</th>\n",
       "      <td>Türkiye seçimi: Seçim sisteminin nasıl çalıştı...</td>\n",
       "      <td>Türkiye'de ilk kez beş milyona yakın seçmen ol...</td>\n",
       "      <td>Türkiye seçimi: Seçim sisteminin nasıl çalıştı...</td>\n",
       "    </tr>\n",
       "    <tr>\n",
       "      <th>4</th>\n",
       "      <td>Türkiye 14 Mayıs'ta cumhurbaşkanlığı, parlamen...</td>\n",
       "      <td>Seçimlerin Türkiye muhalefetinin 20 yıl içinde...</td>\n",
       "      <td>Türkiye 14 Mayıs'ta cumhurbaşkanlığı, parlamen...</td>\n",
       "    </tr>\n",
       "  </tbody>\n",
       "</table>\n",
       "</div>"
      ],
      "text/plain": [
       "                                            title_tr  \\\n",
       "0  Roberts, Kompany'yi gelecekte antrenör olarak ...   \n",
       "1  Dünya liderleri Erdoğan'ı seçim zaferinden dol...   \n",
       "2  Tehlikedeki diller hakkında Guardian görüşü: b...   \n",
       "3  Türkiye seçimi: Seçim sisteminin nasıl çalıştı...   \n",
       "4  Türkiye 14 Mayıs'ta cumhurbaşkanlığı, parlamen...   \n",
       "\n",
       "                              shortened_full_text_tr  \\\n",
       "0  Pazartesi günü Türkiye'de Euro 2024 eleme maçı...   \n",
       "1  Tüm gözler NATO üyesi Türkiye'yi Erdoğan'ın ik...   \n",
       "2  Türkiye'nin Karadeniz kıyısındaki dağ köylerin...   \n",
       "3  Türkiye'de ilk kez beş milyona yakın seçmen ol...   \n",
       "4  Seçimlerin Türkiye muhalefetinin 20 yıl içinde...   \n",
       "\n",
       "                                      title_and_text  \n",
       "0  Roberts, Kompany'yi gelecekte antrenör olarak ...  \n",
       "1  Dünya liderleri Erdoğan'ı seçim zaferinden dol...  \n",
       "2  Tehlikedeki diller hakkında Guardian görüşü: b...  \n",
       "3  Türkiye seçimi: Seçim sisteminin nasıl çalıştı...  \n",
       "4  Türkiye 14 Mayıs'ta cumhurbaşkanlığı, parlamen...  "
      ]
     },
     "metadata": {},
     "output_type": "display_data"
    }
   ],
   "source": [
    "# Verify the existence of required columns\n",
    "required_columns = ['title_tr', 'shortened_full_text_tr']\n",
    "missing_columns = [col for col in required_columns if col not in df.columns]\n",
    "if missing_columns:\n",
    "    raise ValueError(f\"Required columns {missing_columns} are missing from the CSV file.\")\n",
    "\n",
    "# Merge the columns\n",
    "df['title_and_text'] = df['title_tr'].astype(str) + \". \" + df['shortened_full_text_tr'].astype(str)\n",
    "\n",
    "# Display the merged column\n",
    "display(df[['title_tr', 'shortened_full_text_tr', 'title_and_text']].head())"
   ]
  },
  {
   "cell_type": "code",
   "execution_count": 87,
   "id": "6b94111e-66da-43dd-9995-aad62989d98d",
   "metadata": {},
   "outputs": [
    {
     "data": {
      "text/html": [
       "<div>\n",
       "<style scoped>\n",
       "    .dataframe tbody tr th:only-of-type {\n",
       "        vertical-align: middle;\n",
       "    }\n",
       "\n",
       "    .dataframe tbody tr th {\n",
       "        vertical-align: top;\n",
       "    }\n",
       "\n",
       "    .dataframe thead th {\n",
       "        text-align: right;\n",
       "    }\n",
       "</style>\n",
       "<table border=\"1\" class=\"dataframe\">\n",
       "  <thead>\n",
       "    <tr style=\"text-align: right;\">\n",
       "      <th></th>\n",
       "      <th>title_and_text</th>\n",
       "      <th>normalized_text</th>\n",
       "    </tr>\n",
       "  </thead>\n",
       "  <tbody>\n",
       "    <tr>\n",
       "      <th>0</th>\n",
       "      <td>Roberts, Kompany'yi gelecekte antrenör olarak ...</td>\n",
       "      <td>Roberts, Kompany'yi gelecekte antrenör olarak ...</td>\n",
       "    </tr>\n",
       "    <tr>\n",
       "      <th>1</th>\n",
       "      <td>Dünya liderleri Erdoğan'ı seçim zaferinden dol...</td>\n",
       "      <td>Dünya liderleri Erdoğan'ı seçim zaferinden dol...</td>\n",
       "    </tr>\n",
       "    <tr>\n",
       "      <th>2</th>\n",
       "      <td>Tehlikedeki diller hakkında Guardian görüşü: b...</td>\n",
       "      <td>Tehlikedeki diller hakkında Guardian görüşü: b...</td>\n",
       "    </tr>\n",
       "    <tr>\n",
       "      <th>3</th>\n",
       "      <td>Türkiye seçimi: Seçim sisteminin nasıl çalıştı...</td>\n",
       "      <td>Türkiye seçimi: Seçim sisteminin nasıl çalıştı...</td>\n",
       "    </tr>\n",
       "    <tr>\n",
       "      <th>4</th>\n",
       "      <td>Türkiye 14 Mayıs'ta cumhurbaşkanlığı, parlamen...</td>\n",
       "      <td>Türkiye 14 Mayıs'ta cumhurbaşkanlığı, parlamen...</td>\n",
       "    </tr>\n",
       "  </tbody>\n",
       "</table>\n",
       "</div>"
      ],
      "text/plain": [
       "                                      title_and_text  \\\n",
       "0  Roberts, Kompany'yi gelecekte antrenör olarak ...   \n",
       "1  Dünya liderleri Erdoğan'ı seçim zaferinden dol...   \n",
       "2  Tehlikedeki diller hakkında Guardian görüşü: b...   \n",
       "3  Türkiye seçimi: Seçim sisteminin nasıl çalıştı...   \n",
       "4  Türkiye 14 Mayıs'ta cumhurbaşkanlığı, parlamen...   \n",
       "\n",
       "                                     normalized_text  \n",
       "0  Roberts, Kompany'yi gelecekte antrenör olarak ...  \n",
       "1  Dünya liderleri Erdoğan'ı seçim zaferinden dol...  \n",
       "2  Tehlikedeki diller hakkında Guardian görüşü: b...  \n",
       "3  Türkiye seçimi: Seçim sisteminin nasıl çalıştı...  \n",
       "4  Türkiye 14 Mayıs'ta cumhurbaşkanlığı, parlamen...  "
      ]
     },
     "metadata": {},
     "output_type": "display_data"
    }
   ],
   "source": [
    "def normalize_punctuation(text):\n",
    "    \"\"\"\n",
    "    Normalizes punctuation in the text by removing extra spaces and redundant marks.\n",
    "    \n",
    "    Parameters:\n",
    "        text (str): The text to normalize.\n",
    "    \n",
    "    Returns:\n",
    "        str: Normalized text.\n",
    "    \"\"\"\n",
    "    # Remove extra spaces before punctuation\n",
    "    text = re.sub(r'\\s+([.,!?])', r'\\1', text)\n",
    "    # Replace multiple punctuation marks with a single one\n",
    "    text = re.sub(r'([.,!?]){2,}', r'\\1', text)\n",
    "    return text\n",
    "\n",
    "# Apply normalization\n",
    "df['normalized_text'] = df['title_and_text'].apply(normalize_punctuation)\n",
    "\n",
    "# Display the normalized text\n",
    "display(df[['title_and_text', 'normalized_text']].head())"
   ]
  },
  {
   "cell_type": "code",
   "execution_count": 88,
   "id": "ff711869-9f09-441b-a91d-a741ee89c740",
   "metadata": {},
   "outputs": [
    {
     "name": "stdout",
     "output_type": "stream",
     "text": [
      "Model and tokenizer 'akdeniz27/bert-base-turkish-cased-ner' loaded successfully.\n",
      "NER pipeline initialized successfully.\n"
     ]
    }
   ],
   "source": [
    "from transformers import AutoTokenizer, AutoModelForTokenClassification, pipeline\n",
    "\n",
    "# Specify the NER model name\n",
    "ner_model_name = \"akdeniz27/bert-base-turkish-cased-ner\"\n",
    "\n",
    "# Load the tokenizer and model\n",
    "try:\n",
    "    tokenizer = AutoTokenizer.from_pretrained(ner_model_name)\n",
    "    model = AutoModelForTokenClassification.from_pretrained(ner_model_name)\n",
    "    print(f\"Model and tokenizer '{ner_model_name}' loaded successfully.\")\n",
    "except Exception as e:\n",
    "    raise Exception(f\"An error occurred while loading the NER model '{ner_model_name}': {e}\")\n",
    "\n",
    "# Initialize the NER pipeline with GPU (MPS) support if available\n",
    "try:\n",
    "    ner_pipeline = pipeline(\n",
    "        \"ner\",\n",
    "        model=model,\n",
    "        tokenizer=tokenizer,\n",
    "        aggregation_strategy=\"simple\",  # Aggregates tokens into entities\n",
    "        device=0 if device.type == 'mps' else -1  # 0 for GPU (MPS), -1 for CPU\n",
    "    )\n",
    "    print(\"NER pipeline initialized successfully.\")\n",
    "except Exception as e:\n",
    "    raise Exception(f\"An error occurred while initializing the NER pipeline: {e}\")"
   ]
  },
  {
   "cell_type": "code",
   "execution_count": 89,
   "id": "d18be793-eacf-44ae-8136-5ab81f4de26f",
   "metadata": {},
   "outputs": [
    {
     "name": "stdout",
     "output_type": "stream",
     "text": [
      "Model Label Mapping:\n",
      "{0: 'O', 1: 'B-PER', 2: 'I-PER', 3: 'B-ORG', 4: 'I-ORG', 5: 'B-LOC', 6: 'I-LOC'}\n"
     ]
    }
   ],
   "source": [
    "# Retrieve and print the model's label mapping\n",
    "label_mapping = model.config.id2label\n",
    "print(\"Model Label Mapping:\")\n",
    "print(label_mapping)"
   ]
  },
  {
   "cell_type": "code",
   "execution_count": 90,
   "id": "6487cb16-e4d8-4e99-bd8e-15516f1209c6",
   "metadata": {},
   "outputs": [],
   "source": [
    "def split_text(text, max_length=512):\n",
    "    \"\"\"\n",
    "    Splits the input text into chunks not exceeding the specified maximum length.\n",
    "    \n",
    "    Parameters:\n",
    "        text (str): The text to be split.\n",
    "        max_length (int): The maximum number of characters per chunk.\n",
    "    \n",
    "    Returns:\n",
    "        list: A list of text chunks.\n",
    "    \"\"\"\n",
    "    return [text[i:i+max_length] for i in range(0, len(text), max_length)]"
   ]
  },
  {
   "cell_type": "code",
   "execution_count": 91,
   "id": "78e17fe5-334a-4b37-b825-90e22b8b50f5",
   "metadata": {},
   "outputs": [],
   "source": [
    "def extract_entities(text, pipeline, max_length=512):\n",
    "    \"\"\"\n",
    "    Extracts named entities from the input text using the specified NER pipeline.\n",
    "    \n",
    "    Parameters:\n",
    "        text (str): The text from which to extract entities.\n",
    "        pipeline: The Hugging Face NER pipeline.\n",
    "        max_length (int): The maximum number of characters per text chunk.\n",
    "    \n",
    "    Returns:\n",
    "        list: A list of tuples containing entity text and its label.\n",
    "    \"\"\"\n",
    "    chunks = split_text(text, max_length)\n",
    "    entities = []\n",
    "    for chunk in chunks:\n",
    "        try:\n",
    "            ner_results = pipeline(chunk)\n",
    "            for ent in ner_results:\n",
    "                entities.append((ent['word'], ent['entity_group']))\n",
    "        except Exception as e:\n",
    "            print(f\"Error processing chunk: {e}\")\n",
    "    return entities"
   ]
  },
  {
   "cell_type": "code",
   "execution_count": 92,
   "id": "f7fb9975-cf3c-4e67-bf30-59cb6e018952",
   "metadata": {},
   "outputs": [
    {
     "name": "stdout",
     "output_type": "stream",
     "text": [
      "Starting entity extraction with the new NER model...\n",
      "Entity extraction completed successfully.\n"
     ]
    },
    {
     "data": {
      "text/html": [
       "<div>\n",
       "<style scoped>\n",
       "    .dataframe tbody tr th:only-of-type {\n",
       "        vertical-align: middle;\n",
       "    }\n",
       "\n",
       "    .dataframe tbody tr th {\n",
       "        vertical-align: top;\n",
       "    }\n",
       "\n",
       "    .dataframe thead th {\n",
       "        text-align: right;\n",
       "    }\n",
       "</style>\n",
       "<table border=\"1\" class=\"dataframe\">\n",
       "  <thead>\n",
       "    <tr style=\"text-align: right;\">\n",
       "      <th></th>\n",
       "      <th>normalized_text</th>\n",
       "      <th>entities</th>\n",
       "    </tr>\n",
       "  </thead>\n",
       "  <tbody>\n",
       "    <tr>\n",
       "      <th>0</th>\n",
       "      <td>Roberts, Kompany'yi gelecekte antrenör olarak ...</td>\n",
       "      <td>[(Robert, PER), (##s, PER), (Komp, PER), (##an...</td>\n",
       "    </tr>\n",
       "    <tr>\n",
       "      <th>1</th>\n",
       "      <td>Dünya liderleri Erdoğan'ı seçim zaferinden dol...</td>\n",
       "      <td>[(Erdoğan, PER), (NATO, ORG), (Türkiye, LOC), ...</td>\n",
       "    </tr>\n",
       "    <tr>\n",
       "      <th>2</th>\n",
       "      <td>Tehlikedeki diller hakkında Guardian görüşü: b...</td>\n",
       "      <td>[(Guar, ORG), (##dian, ORG), (Türkiye, LOC), (...</td>\n",
       "    </tr>\n",
       "    <tr>\n",
       "      <th>3</th>\n",
       "      <td>Türkiye seçimi: Seçim sisteminin nasıl çalıştı...</td>\n",
       "      <td>[(Türkiye, LOC), (Türkiye, LOC), (Türkiye, LOC...</td>\n",
       "    </tr>\n",
       "    <tr>\n",
       "      <th>4</th>\n",
       "      <td>Türkiye 14 Mayıs'ta cumhurbaşkanlığı, parlamen...</td>\n",
       "      <td>[(Türkiye, LOC), (Türkiye, LOC), (Recep Tayyip...</td>\n",
       "    </tr>\n",
       "  </tbody>\n",
       "</table>\n",
       "</div>"
      ],
      "text/plain": [
       "                                     normalized_text  \\\n",
       "0  Roberts, Kompany'yi gelecekte antrenör olarak ...   \n",
       "1  Dünya liderleri Erdoğan'ı seçim zaferinden dol...   \n",
       "2  Tehlikedeki diller hakkında Guardian görüşü: b...   \n",
       "3  Türkiye seçimi: Seçim sisteminin nasıl çalıştı...   \n",
       "4  Türkiye 14 Mayıs'ta cumhurbaşkanlığı, parlamen...   \n",
       "\n",
       "                                            entities  \n",
       "0  [(Robert, PER), (##s, PER), (Komp, PER), (##an...  \n",
       "1  [(Erdoğan, PER), (NATO, ORG), (Türkiye, LOC), ...  \n",
       "2  [(Guar, ORG), (##dian, ORG), (Türkiye, LOC), (...  \n",
       "3  [(Türkiye, LOC), (Türkiye, LOC), (Türkiye, LOC...  \n",
       "4  [(Türkiye, LOC), (Türkiye, LOC), (Recep Tayyip...  "
      ]
     },
     "metadata": {},
     "output_type": "display_data"
    }
   ],
   "source": [
    "print(\"Starting entity extraction with the new NER model...\")\n",
    "\n",
    "# Apply the entity extraction function to each row's lemmatized text\n",
    "df['entities'] = df['normalized_text'].apply(lambda x: extract_entities(x, ner_pipeline))\n",
    "\n",
    "print(\"Entity extraction completed successfully.\")\n",
    "display(df[['normalized_text', 'entities']].head())"
   ]
  },
  {
   "cell_type": "code",
   "execution_count": 93,
   "id": "19d7ba4e-cc05-4007-80a5-3d795417daf0",
   "metadata": {},
   "outputs": [],
   "source": [
    "# Initialize YAKE keyword extractor for Turkish\n",
    "kw_extractor = yake.KeywordExtractor(lan=\"tr\", n=2, dedupLim=0.9, top=20, features=None)"
   ]
  },
  {
   "cell_type": "code",
   "execution_count": 94,
   "id": "dfc2173e-643e-4c24-8318-a0beb5e74476",
   "metadata": {},
   "outputs": [],
   "source": [
    "def extract_keywords(text, extractor, max_length=512):\n",
    "    \"\"\"\n",
    "    Extracts keywords from the input text using YAKE.\n",
    "    \n",
    "    Parameters:\n",
    "        text (str): The text from which to extract keywords.\n",
    "        extractor: The YAKE keyword extractor instance.\n",
    "        max_length (int): The maximum number of characters per text chunk.\n",
    "    \n",
    "    Returns:\n",
    "        list: A list of extracted keywords.\n",
    "    \"\"\"\n",
    "    chunks = split_text(text, max_length)\n",
    "    keywords = []\n",
    "    for chunk in chunks:\n",
    "        try:\n",
    "            kw = extractor.extract_keywords(chunk)\n",
    "            keywords.extend([keyword for keyword, score in kw])\n",
    "        except Exception as e:\n",
    "            print(f\"Error extracting keywords from chunk: {e}\")\n",
    "    return keywords"
   ]
  },
  {
   "cell_type": "code",
   "execution_count": 95,
   "id": "a5a9bc53-dafa-4838-a2fa-73efcb5502aa",
   "metadata": {},
   "outputs": [],
   "source": [
    "# Initialize YAKE keyword extractor for Turkish\n",
    "kw_extractor = yake.KeywordExtractor(lan=\"tr\", n=2, dedupLim=0.9, top=20, features=None)"
   ]
  },
  {
   "cell_type": "code",
   "execution_count": 96,
   "id": "74409805-6d8f-4fa3-8760-dbde097cb648",
   "metadata": {},
   "outputs": [],
   "source": [
    "def extract_keywords(text, extractor, max_length=512):\n",
    "    \"\"\"\n",
    "    Extracts keywords from the input text using YAKE.\n",
    "    \n",
    "    Parameters:\n",
    "        text (str): The text from which to extract keywords.\n",
    "        extractor: The YAKE keyword extractor instance.\n",
    "        max_length (int): The maximum number of characters per text chunk.\n",
    "    \n",
    "    Returns:\n",
    "        list: A list of extracted keywords.\n",
    "    \"\"\"\n",
    "    chunks = split_text(text, max_length)\n",
    "    keywords = []\n",
    "    for chunk in chunks:\n",
    "        try:\n",
    "            kw = extractor.extract_keywords(chunk)\n",
    "            keywords.extend([keyword for keyword, score in kw])\n",
    "        except Exception as e:\n",
    "            print(f\"Error extracting keywords from chunk: {e}\")\n",
    "    return keywords"
   ]
  },
  {
   "cell_type": "code",
   "execution_count": 97,
   "id": "bdf6a07d-afe3-469d-98f2-d7c172893ff8",
   "metadata": {},
   "outputs": [
    {
     "name": "stdout",
     "output_type": "stream",
     "text": [
      "Starting keyword extraction...\n",
      "Keyword extraction completed successfully.\n"
     ]
    },
    {
     "data": {
      "text/html": [
       "<div>\n",
       "<style scoped>\n",
       "    .dataframe tbody tr th:only-of-type {\n",
       "        vertical-align: middle;\n",
       "    }\n",
       "\n",
       "    .dataframe tbody tr th {\n",
       "        vertical-align: top;\n",
       "    }\n",
       "\n",
       "    .dataframe thead th {\n",
       "        text-align: right;\n",
       "    }\n",
       "</style>\n",
       "<table border=\"1\" class=\"dataframe\">\n",
       "  <thead>\n",
       "    <tr style=\"text-align: right;\">\n",
       "      <th></th>\n",
       "      <th>normalized_text</th>\n",
       "      <th>keywords</th>\n",
       "    </tr>\n",
       "  </thead>\n",
       "  <tbody>\n",
       "    <tr>\n",
       "      <th>0</th>\n",
       "      <td>Roberts, Kompany'yi gelecekte antrenör olarak ...</td>\n",
       "      <td>[Kompany'yi gelecekte, etmeyi hedefliyor, gele...</td>\n",
       "    </tr>\n",
       "    <tr>\n",
       "      <th>1</th>\n",
       "      <td>Dünya liderleri Erdoğan'ı seçim zaferinden dol...</td>\n",
       "      <td>[Cumhurbaşkanı Erdoğan'ın, Erdoğan'ı seçim, li...</td>\n",
       "    </tr>\n",
       "    <tr>\n",
       "      <th>2</th>\n",
       "      <td>Tehlikedeki diller hakkında Guardian görüşü: b...</td>\n",
       "      <td>[Guardian görüşü, hakkında Guardian, Tehlikede...</td>\n",
       "    </tr>\n",
       "    <tr>\n",
       "      <th>3</th>\n",
       "      <td>Türkiye seçimi: Seçim sisteminin nasıl çalıştı...</td>\n",
       "      <td>[Seçim sisteminin, dair rehberiniz, çalıştığın...</td>\n",
       "    </tr>\n",
       "    <tr>\n",
       "      <th>4</th>\n",
       "      <td>Türkiye 14 Mayıs'ta cumhurbaşkanlığı, parlamen...</td>\n",
       "      <td>[Cumhurbaşkanı Recep, Recep Tayyip, Mayıs'ta T...</td>\n",
       "    </tr>\n",
       "  </tbody>\n",
       "</table>\n",
       "</div>"
      ],
      "text/plain": [
       "                                     normalized_text  \\\n",
       "0  Roberts, Kompany'yi gelecekte antrenör olarak ...   \n",
       "1  Dünya liderleri Erdoğan'ı seçim zaferinden dol...   \n",
       "2  Tehlikedeki diller hakkında Guardian görüşü: b...   \n",
       "3  Türkiye seçimi: Seçim sisteminin nasıl çalıştı...   \n",
       "4  Türkiye 14 Mayıs'ta cumhurbaşkanlığı, parlamen...   \n",
       "\n",
       "                                            keywords  \n",
       "0  [Kompany'yi gelecekte, etmeyi hedefliyor, gele...  \n",
       "1  [Cumhurbaşkanı Erdoğan'ın, Erdoğan'ı seçim, li...  \n",
       "2  [Guardian görüşü, hakkında Guardian, Tehlikede...  \n",
       "3  [Seçim sisteminin, dair rehberiniz, çalıştığın...  \n",
       "4  [Cumhurbaşkanı Recep, Recep Tayyip, Mayıs'ta T...  "
      ]
     },
     "metadata": {},
     "output_type": "display_data"
    }
   ],
   "source": [
    "print(\"Starting keyword extraction...\")\n",
    "\n",
    "# Apply the keyword extraction function to each row's lemmatized text\n",
    "df['keywords'] = df['normalized_text'].apply(lambda x: extract_keywords(x, kw_extractor))\n",
    "\n",
    "print(\"Keyword extraction completed successfully.\")\n",
    "display(df[['normalized_text', 'keywords']].head())"
   ]
  },
  {
   "cell_type": "code",
   "execution_count": 98,
   "id": "6fea443c-c6d2-4cb8-a8a7-e81f1644b1ad",
   "metadata": {},
   "outputs": [
    {
     "name": "stdout",
     "output_type": "stream",
     "text": [
      "Entity Label Counts:\n",
      "Counter({'LOC': 19656, 'PER': 2875, 'ORG': 2597})\n",
      "\n",
      "Top 30 Most Common Entities:\n",
      "[('Türkiye', 8027), ('Suriye', 3232), ('Suudi Arabistan', 984), ('Erdoğan', 784), ('Rusya', 716), ('Kıbrıs', 654), ('AB', 392), ('İstanbul', 383), ('İsrail', 369), ('Ankara', 346), ('ABD', 336), ('NATO', 329), ('Filistin', 320), ('PKK', 291), ('Yunanistan', 288), ('AKP', 252), ('Osmanlı', 227), ('Recep Tayyip Erdoğan', 226), ('Gazze', 219), ('Anayasa Mahkemesi', 190), ('Ukrayna', 185), ('İngiltere', 181), ('Güneydoğu', 162), ('Arabistan', 161), ('Başbakanlık', 145), ('İsveç', 119), ('Ürdün', 110), ('Mısır', 99), ('Batı', 73), ('BM', 48)]\n"
     ]
    }
   ],
   "source": [
    "# Flatten the list of all entities\n",
    "all_entities = [ent for sublist in df['entities'] for ent in sublist]\n",
    "\n",
    "# Separate entity texts and labels\n",
    "entity_texts = [ent[0] for ent in all_entities]\n",
    "entity_labels = [ent[1] for ent in all_entities]\n",
    "\n",
    "# Count frequency of each entity label\n",
    "label_counts = Counter(entity_labels)\n",
    "print(\"Entity Label Counts:\")\n",
    "print(label_counts)\n",
    "\n",
    "# Count frequency of each entity text\n",
    "text_counts = Counter(entity_texts)\n",
    "print(\"\\nTop 30 Most Common Entities:\")\n",
    "print(text_counts.most_common(30))"
   ]
  },
  {
   "cell_type": "code",
   "execution_count": 99,
   "id": "6e2d00b4-20e2-4851-9b94-06e9dafa8e1c",
   "metadata": {},
   "outputs": [
    {
     "name": "stderr",
     "output_type": "stream",
     "text": [
      "/var/folders/j2/69bjqs2x3m1g1ptxhl19z8mm0000gn/T/ipykernel_46585/843535666.py:3: FutureWarning: \n",
      "\n",
      "Passing `palette` without assigning `hue` is deprecated and will be removed in v0.14.0. Assign the `x` variable to `hue` and set `legend=False` for the same effect.\n",
      "\n",
      "  sns.barplot(x=list(label_counts.keys()), y=list(label_counts.values()), palette='viridis')\n"
     ]
    },
    {
     "data": {
      "image/png": "[encoded data removed]",
      "text/plain": [
       "<Figure size 1000x600 with 1 Axes>"
      ]
     },
     "metadata": {},
     "output_type": "display_data"
    }
   ],
   "source": [
    "# Bar Plot for Entity Labels\n",
    "plt.figure(figsize=(10,6))\n",
    "sns.barplot(x=list(label_counts.keys()), y=list(label_counts.values()), palette='viridis')\n",
    "plt.title('Distribution of Entity Labels', fontsize=16)\n",
    "plt.xlabel('Entity Label', fontsize=14)\n",
    "plt.ylabel('Count', fontsize=14)\n",
    "plt.xticks(rotation=45)\n",
    "plt.tight_layout()\n",
    "plt.savefig('./entity_label_distribution.png')\n",
    "plt.show()"
   ]
  },
  {
   "cell_type": "code",
   "execution_count": 100,
   "id": "d34014a9-b886-4c28-b64f-3d7bf258aca5",
   "metadata": {},
   "outputs": [
    {
     "name": "stderr",
     "output_type": "stream",
     "text": [
      "/var/folders/j2/69bjqs2x3m1g1ptxhl19z8mm0000gn/T/ipykernel_46585/843535666.py:3: FutureWarning: \n",
      "\n",
      "Passing `palette` without assigning `hue` is deprecated and will be removed in v0.14.0. Assign the `x` variable to `hue` and set `legend=False` for the same effect.\n",
      "\n",
      "  sns.barplot(x=list(label_counts.keys()), y=list(label_counts.values()), palette='viridis')\n"
     ]
    },
    {
     "data": {
      "image/png": "[encoded data removed]",
      "text/plain": [
       "<Figure size 1000x600 with 1 Axes>"
      ]
     },
     "metadata": {},
     "output_type": "display_data"
    }
   ],
   "source": [
    "# Bar Plot for Entity Labels\n",
    "plt.figure(figsize=(10,6))\n",
    "sns.barplot(x=list(label_counts.keys()), y=list(label_counts.values()), palette='viridis')\n",
    "plt.title('Distribution of Entity Labels', fontsize=16)\n",
    "plt.xlabel('Entity Label', fontsize=14)\n",
    "plt.ylabel('Count', fontsize=14)\n",
    "plt.xticks(rotation=45)\n",
    "plt.tight_layout()\n",
    "plt.savefig('./entity_label_distribution.png')\n",
    "plt.show()"
   ]
  },
  {
   "cell_type": "code",
   "execution_count": 101,
   "id": "831b95da-f192-42ce-85c8-ca0993ce6425",
   "metadata": {},
   "outputs": [
    {
     "name": "stderr",
     "output_type": "stream",
     "text": [
      "/var/folders/j2/69bjqs2x3m1g1ptxhl19z8mm0000gn/T/ipykernel_46585/1977891765.py:6: FutureWarning: \n",
      "\n",
      "Passing `palette` without assigning `hue` is deprecated and will be removed in v0.14.0. Assign the `x` variable to `hue` and set `legend=False` for the same effect.\n",
      "\n",
      "  sns.barplot(x=list(entities), y=list(counts), palette='viridis')\n"
     ]
    },
    {
     "data": {
      "image/png": "[encoded data removed]",
      "text/plain": [
       "<Figure size 1600x800 with 1 Axes>"
      ]
     },
     "metadata": {},
     "output_type": "display_data"
    }
   ],
   "source": [
    "# Bar Plot for Top 10 Most Common Entities\n",
    "top_entities = text_counts.most_common(10)\n",
    "entities, counts = zip(*top_entities)\n",
    "\n",
    "plt.figure(figsize=(16,8))\n",
    "sns.barplot(x=list(entities), y=list(counts), palette='viridis')\n",
    "plt.title('Top 10 Most Common Entities', fontsize=16)\n",
    "plt.xlabel('Entity', fontsize=14)\n",
    "plt.ylabel('Count', fontsize=14)\n",
    "plt.xticks(rotation=90)\n",
    "plt.tight_layout()\n",
    "plt.savefig('./top_10_entities.png')\n",
    "plt.show()"
   ]
  },
  {
   "cell_type": "code",
   "execution_count": 102,
   "id": "beb223bd-6888-460a-9cc6-a97fb2f0a9e2",
   "metadata": {},
   "outputs": [
    {
     "name": "stdout",
     "output_type": "stream",
     "text": [
      "\n",
      "Top 30 Most Common Keywords:\n",
      "[(\"Türkiye'nin\", 494), ('Türkiye', 398), ('Recep Tayyip', 204), ('Türk', 200), ('Cumhurbaşkanı Recep', 130), ('Tayyip Erdoğan', 127), (\"Türkiye'de\", 124), ('söyledi', 109), ('Erdoğan', 100), (\"Erdoğan'ın\", 92), (\"Suriye'nin\", 81), ('Türkiye Cumhurbaşkanı', 73), (\"Türkiye'deki\", 71), ('Suudi', 69), (\"Suriye'deki\", 68), ('karşı', 67), (\"Tayyip Erdoğan'ın\", 62), ('sonra', 59), (\"Suriye'ye\", 59), ('Suriye', 54), (\"Suudi Arabistan'ın\", 53), (\"Türkiye'yi\", 51), (\"Arabistan'ın\", 49), ('video', 48), (\"Türkiye'ye\", 47), ('büyük', 46), ('İstanbul', 46), ('belediye', 44), ('NATO', 40), ('Cumhurbaşkanı', 39)]\n"
     ]
    }
   ],
   "source": [
    "# Flatten the list of all keywords\n",
    "all_keywords = [kw for sublist in df['keywords'] for kw in sublist]\n",
    "\n",
    "# Count frequency of each keyword\n",
    "keyword_counts = Counter(all_keywords)\n",
    "print(\"\\nTop 30 Most Common Keywords:\")\n",
    "print(keyword_counts.most_common(30))"
   ]
  },
  {
   "cell_type": "code",
   "execution_count": 103,
   "id": "9018374b-070c-4f2e-a151-d4c1bd6b90fd",
   "metadata": {},
   "outputs": [
    {
     "name": "stderr",
     "output_type": "stream",
     "text": [
      "/var/folders/j2/69bjqs2x3m1g1ptxhl19z8mm0000gn/T/ipykernel_46585/2263366664.py:6: FutureWarning: \n",
      "\n",
      "Passing `palette` without assigning `hue` is deprecated and will be removed in v0.14.0. Assign the `x` variable to `hue` and set `legend=False` for the same effect.\n",
      "\n",
      "  sns.barplot(x=list(keywords), y=list(counts), palette='viridis')\n"
     ]
    },
    {
     "data": {
      "image/png": "[encoded data removed]",
      "text/plain": [
       "<Figure size 1600x800 with 1 Axes>"
      ]
     },
     "metadata": {},
     "output_type": "display_data"
    }
   ],
   "source": [
    "# Bar Plot for Top 10 Keywords\n",
    "top_keywords = keyword_counts.most_common(10)\n",
    "keywords, counts = zip(*top_keywords)\n",
    "\n",
    "plt.figure(figsize=(16,8))\n",
    "sns.barplot(x=list(keywords), y=list(counts), palette='viridis')\n",
    "plt.title('Top 10 Most Common Keywords', fontsize=16)\n",
    "plt.xlabel('Keyword', fontsize=14)\n",
    "plt.ylabel('Count', fontsize=14)\n",
    "plt.xticks(rotation=90)\n",
    "plt.tight_layout()\n",
    "plt.savefig('./top_10_keywords.png')\n",
    "plt.show()"
   ]
  },
  {
   "cell_type": "code",
   "execution_count": 104,
   "id": "91be5898-0c56-442c-83b2-c78dd4adfbdd",
   "metadata": {},
   "outputs": [
    {
     "name": "stdout",
     "output_type": "stream",
     "text": [
      "Processed data successfully saved to './processed_news_turkish_entities_keywords.csv'.\n"
     ]
    }
   ],
   "source": [
    "# Path to save the processed DataFrame\n",
    "output_path = './processed_news_turkish_entities_keywords.csv'\n",
    "\n",
    "# Save the DataFrame\n",
    "try:\n",
    "    df.to_csv(output_path, index=False)\n",
    "    print(f\"Processed data successfully saved to '{output_path}'.\")\n",
    "except Exception as e:\n",
    "    raise Exception(f\"An error occurred while saving the processed data: {e}\")"
   ]
  },
  {
   "cell_type": "code",
   "execution_count": null,
   "id": "f494a9d8-d579-4553-89e8-b3a0180311c4",
   "metadata": {},
   "outputs": [],
   "source": []
  }
 ],
 "metadata": {
  "kernelspec": {
   "display_name": "Python (sentiment_env_v35)",
   "language": "python",
   "name": "sentiment_env_v35"
  },
  "language_info": {
   "codemirror_mode": {
    "name": "ipython",
    "version": 3
   },
   "file_extension": ".py",
   "mimetype": "text/x-python",
   "name": "python",
   "nbconvert_exporter": "python",
   "pygments_lexer": "ipython3",
   "version": "3.8.20"
  }
 },
 "nbformat": 4,
 "nbformat_minor": 5
}
