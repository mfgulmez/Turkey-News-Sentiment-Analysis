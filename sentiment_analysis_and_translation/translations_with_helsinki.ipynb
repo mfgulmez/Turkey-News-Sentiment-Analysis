{
 "cells": [
  {
   "cell_type": "code",
   "execution_count": 21,
   "id": "4f065dd8-0bfc-45fe-8132-4df43b081023",
   "metadata": {},
   "outputs": [],
   "source": [
    "\"\"\"\n",
    "---------------------------------------------------------\n",
    "Translation with Helsinki-NLP/opus-mt-en-tr\n",
    "for English-to-Turkish (Longer Context Friendly)\n",
    "---------------------------------------------------------\n",
    "\n",
    "This script:\n",
    "  - Reads a CSV file with at least the following columns:\n",
    "      ['source', 'article_url', 'title', 'date', 'shortened_full_text']\n",
    "  - Translates 'title' and 'shortened_full_text' from English to Turkish\n",
    "  - Adds new columns 'title_tr' and 'shortened_full_text_tr'\n",
    "  - Saves the resulting DataFrame to a CSV file\n",
    "\"\"\"\n",
    "\n",
    "import pandas as pd\n",
    "import torch\n",
    "from transformers import pipeline"
   ]
  },
  {
   "cell_type": "code",
   "execution_count": 22,
   "id": "f451a2d2-c6a7-454b-8467-bdb19d09e5de",
   "metadata": {},
   "outputs": [],
   "source": [
    "df = pd.read_csv('./balanced_data_1000.csv')"
   ]
  },
  {
   "cell_type": "code",
   "execution_count": 23,
   "id": "ef47c7c5-ed7d-402c-8c69-82dbaaf4cccc",
   "metadata": {},
   "outputs": [
    {
     "name": "stdout",
     "output_type": "stream",
     "text": [
      "MPS is available. Using Apple GPU acceleration.\n"
     ]
    }
   ],
   "source": [
    "if torch.backends.mps.is_available() and torch.backends.mps.is_built():\n",
    "    print(\"MPS is available. Using Apple GPU acceleration.\")\n",
    "    device_arg = \"mps\"\n",
    "else:\n",
    "    print(\"Using CPU.\")\n",
    "    device_arg = \"cpu\""
   ]
  },
  {
   "cell_type": "code",
   "execution_count": 24,
   "id": "954f22df-e883-4be6-bb7d-c80c5b51d40c",
   "metadata": {},
   "outputs": [
    {
     "data": {
      "application/vnd.jupyter.widget-view+json": {
       "model_id": "a93ec0a3ce9b47ccb77de8953b683b9d",
       "version_major": 2,
       "version_minor": 0
      },
      "text/plain": [
       "config.json:   0%|          | 0.00/1.14k [00:00<?, ?B/s]"
      ]
     },
     "metadata": {},
     "output_type": "display_data"
    },
    {
     "data": {
      "application/vnd.jupyter.widget-view+json": {
       "model_id": "5ef7711aeade430591111b898be9f4a9",
       "version_major": 2,
       "version_minor": 0
      },
      "text/plain": [
       "pytorch_model.bin:   0%|          | 0.00/470M [00:00<?, ?B/s]"
      ]
     },
     "metadata": {},
     "output_type": "display_data"
    },
    {
     "data": {
      "application/vnd.jupyter.widget-view+json": {
       "model_id": "295da2a4529a4ffcbeee4c9b4ea13e17",
       "version_major": 2,
       "version_minor": 0
      },
      "text/plain": [
       "generation_config.json:   0%|          | 0.00/301 [00:00<?, ?B/s]"
      ]
     },
     "metadata": {},
     "output_type": "display_data"
    },
    {
     "data": {
      "application/vnd.jupyter.widget-view+json": {
       "model_id": "3ff936673ca34375b9635ce12416ba12",
       "version_major": 2,
       "version_minor": 0
      },
      "text/plain": [
       "tokenizer_config.json:   0%|          | 0.00/337 [00:00<?, ?B/s]"
      ]
     },
     "metadata": {},
     "output_type": "display_data"
    },
    {
     "data": {
      "application/vnd.jupyter.widget-view+json": {
       "model_id": "143a68209f27452686cbfb5aab2ae2f5",
       "version_major": 2,
       "version_minor": 0
      },
      "text/plain": [
       "source.spm:   0%|          | 0.00/797k [00:00<?, ?B/s]"
      ]
     },
     "metadata": {},
     "output_type": "display_data"
    },
    {
     "data": {
      "application/vnd.jupyter.widget-view+json": {
       "model_id": "0ca1c1236da549fa919c2283b21892c3",
       "version_major": 2,
       "version_minor": 0
      },
      "text/plain": [
       "target.spm:   0%|          | 0.00/833k [00:00<?, ?B/s]"
      ]
     },
     "metadata": {},
     "output_type": "display_data"
    },
    {
     "data": {
      "application/vnd.jupyter.widget-view+json": {
       "model_id": "7f793865e0674e7980e86bb6677db4f2",
       "version_major": 2,
       "version_minor": 0
      },
      "text/plain": [
       "vocab.json:   0%|          | 0.00/1.50M [00:00<?, ?B/s]"
      ]
     },
     "metadata": {},
     "output_type": "display_data"
    },
    {
     "data": {
      "application/vnd.jupyter.widget-view+json": {
       "model_id": "a7a54132e26b4fee9b5d16f4c09acccf",
       "version_major": 2,
       "version_minor": 0
      },
      "text/plain": [
       "model.safetensors:   0%|          | 0.00/470M [00:00<?, ?B/s]"
      ]
     },
     "metadata": {},
     "output_type": "display_data"
    },
    {
     "data": {
      "application/vnd.jupyter.widget-view+json": {
       "model_id": "7e3bc85b5325490da25e764742d3309d",
       "version_major": 2,
       "version_minor": 0
      },
      "text/plain": [
       "special_tokens_map.json:   0%|          | 0.00/65.0 [00:00<?, ?B/s]"
      ]
     },
     "metadata": {},
     "output_type": "display_data"
    }
   ],
   "source": [
    "model_name = \"Helsinki-NLP/opus-mt-tc-big-en-tr\"\n",
    "translator = pipeline(\n",
    "    \"translation\",\n",
    "    model=model_name,\n",
    "    tokenizer=model_name,\n",
    "    device=device_arg,\n",
    "    truncation=True,\n",
    "    max_length=1024  # you can try 2048 if your system has enough memory\n",
    ")"
   ]
  },
  {
   "cell_type": "code",
   "execution_count": 25,
   "id": "2be6ab64-491f-4366-b2c3-970d62b5ae40",
   "metadata": {},
   "outputs": [],
   "source": [
    "def translate_text(text):\n",
    "    if not isinstance(text, str):\n",
    "        return \"\"\n",
    "    result = translator(text)\n",
    "    return result[0][\"translation_text\"]"
   ]
  },
  {
   "cell_type": "code",
   "execution_count": 26,
   "id": "671820b2-ba1b-400c-b31b-1515b24cdd7d",
   "metadata": {},
   "outputs": [],
   "source": [
    "df['title_tr'] = df['title'].apply(translate_text)\n",
    "df['shortened_full_text_tr'] = df['shortened_full_text'].apply(translate_text)"
   ]
  },
  {
   "cell_type": "code",
   "execution_count": 27,
   "id": "f02b2c51-22a0-41b3-a25a-39f63be4e51a",
   "metadata": {},
   "outputs": [
    {
     "name": "stdout",
     "output_type": "stream",
     "text": [
      "Translation complete. Saved to 'translated_file_helsinki.csv'.\n"
     ]
    }
   ],
   "source": [
    "df.to_csv('translated_file_helsinki.csv', index=False)\n",
    "print(\"Translation complete. Saved to 'translated_file_helsinki.csv'.\")"
   ]
  },
  {
   "cell_type": "code",
   "execution_count": null,
   "id": "6ee62e2d-0eae-4b8c-92b5-785c53231e58",
   "metadata": {},
   "outputs": [],
   "source": []
  }
 ],
 "metadata": {
  "kernelspec": {
   "display_name": "Python (sentiment_env_v35)",
   "language": "python",
   "name": "sentiment_env_v35"
  },
  "language_info": {
   "codemirror_mode": {
    "name": "ipython",
    "version": 3
   },
   "file_extension": ".py",
   "mimetype": "text/x-python",
   "name": "python",
   "nbconvert_exporter": "python",
   "pygments_lexer": "ipython3",
   "version": "3.8.20"
  }
 },
 "nbformat": 4,
 "nbformat_minor": 5
}
