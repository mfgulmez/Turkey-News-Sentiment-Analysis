{
 "cells": [
  {
   "cell_type": "code",
   "execution_count": 1,
   "id": "3f885962-aaba-44d8-8eae-26513e6a589b",
   "metadata": {},
   "outputs": [],
   "source": [
    "import pandas as pd\n",
    "import numpy as np\n",
    "\n",
    "from transformers import pipeline"
   ]
  },
  {
   "cell_type": "code",
   "execution_count": 2,
   "id": "0d4cfcdb-25bf-4235-b541-da0a7aa75c49",
   "metadata": {},
   "outputs": [
    {
     "data": {
      "text/html": [
       "<div>\n",
       "<style scoped>\n",
       "    .dataframe tbody tr th:only-of-type {\n",
       "        vertical-align: middle;\n",
       "    }\n",
       "\n",
       "    .dataframe tbody tr th {\n",
       "        vertical-align: top;\n",
       "    }\n",
       "\n",
       "    .dataframe thead th {\n",
       "        text-align: right;\n",
       "    }\n",
       "</style>\n",
       "<table border=\"1\" class=\"dataframe\">\n",
       "  <thead>\n",
       "    <tr style=\"text-align: right;\">\n",
       "      <th></th>\n",
       "      <th>source</th>\n",
       "      <th>article_url</th>\n",
       "      <th>title</th>\n",
       "      <th>date</th>\n",
       "      <th>shortened_full_text</th>\n",
       "    </tr>\n",
       "  </thead>\n",
       "  <tbody>\n",
       "    <tr>\n",
       "      <th>0</th>\n",
       "      <td>BBC</td>\n",
       "      <td>https://www.bbc.com/news/articles/c9vkxvk91gjo</td>\n",
       "      <td>Owner and architect of Turkey quake collapse h...</td>\n",
       "      <td>3 days ago</td>\n",
       "      <td>A court in Turkey has sentenced the owner and ...</td>\n",
       "    </tr>\n",
       "    <tr>\n",
       "      <th>1</th>\n",
       "      <td>BBC</td>\n",
       "      <td>https://www.bbc.com/news/articles/clyvzgjpewgo</td>\n",
       "      <td>Twelve dead in Turkey ammunition factory blast</td>\n",
       "      <td>4 days ago</td>\n",
       "      <td>An explosion at an ammunition and explosives f...</td>\n",
       "    </tr>\n",
       "    <tr>\n",
       "      <th>2</th>\n",
       "      <td>BBC</td>\n",
       "      <td>https://www.bbc.com/news/videos/ckgnzg5e9y3o</td>\n",
       "      <td>Watch: Cargo ship tips on its side in Turkey</td>\n",
       "      <td>4 days ago</td>\n",
       "      <td>A ship docked at a port in Istanbul rolled on ...</td>\n",
       "    </tr>\n",
       "    <tr>\n",
       "      <th>3</th>\n",
       "      <td>BBC</td>\n",
       "      <td>https://www.bbc.com/news/articles/cvgx3r4nd2mo</td>\n",
       "      <td>'Danger of IS resurgence has doubled'  - Syria...</td>\n",
       "      <td>8 days ago</td>\n",
       "      <td>The risk of an IS resurgence is heightened, he...</td>\n",
       "    </tr>\n",
       "    <tr>\n",
       "      <th>4</th>\n",
       "      <td>BBC</td>\n",
       "      <td>https://www.bbc.com/news/articles/c4gp8kx6r8yo</td>\n",
       "      <td>Trio tackle bike ride for Turkey lift shaft vi...</td>\n",
       "      <td>13 Dec 2024</td>\n",
       "      <td>The brother and friends of a man who was found...</td>\n",
       "    </tr>\n",
       "  </tbody>\n",
       "</table>\n",
       "</div>"
      ],
      "text/plain": [
       "  source                                     article_url  \\\n",
       "0    BBC  https://www.bbc.com/news/articles/c9vkxvk91gjo   \n",
       "1    BBC  https://www.bbc.com/news/articles/clyvzgjpewgo   \n",
       "2    BBC    https://www.bbc.com/news/videos/ckgnzg5e9y3o   \n",
       "3    BBC  https://www.bbc.com/news/articles/cvgx3r4nd2mo   \n",
       "4    BBC  https://www.bbc.com/news/articles/c4gp8kx6r8yo   \n",
       "\n",
       "                                               title         date  \\\n",
       "0  Owner and architect of Turkey quake collapse h...   3 days ago   \n",
       "1     Twelve dead in Turkey ammunition factory blast   4 days ago   \n",
       "2       Watch: Cargo ship tips on its side in Turkey   4 days ago   \n",
       "3  'Danger of IS resurgence has doubled'  - Syria...   8 days ago   \n",
       "4  Trio tackle bike ride for Turkey lift shaft vi...  13 Dec 2024   \n",
       "\n",
       "                                 shortened_full_text  \n",
       "0  A court in Turkey has sentenced the owner and ...  \n",
       "1  An explosion at an ammunition and explosives f...  \n",
       "2  A ship docked at a port in Istanbul rolled on ...  \n",
       "3  The risk of an IS resurgence is heightened, he...  \n",
       "4  The brother and friends of a man who was found...  "
      ]
     },
     "metadata": {},
     "output_type": "display_data"
    },
    {
     "name": "stdout",
     "output_type": "stream",
     "text": [
      "Columns in the DataFrame: ['source', 'article_url', 'title', 'date', 'shortened_full_text']\n"
     ]
    }
   ],
   "source": [
    "df = pd.read_csv('./shortened_news.csv')\n",
    "\n",
    "display(df.head())\n",
    "\n",
    "print(\"Columns in the DataFrame:\", df.columns.tolist())"
   ]
  },
  {
   "cell_type": "code",
   "execution_count": 3,
   "id": "6e85fb27-0d25-4afb-b779-6b03ecb76394",
   "metadata": {},
   "outputs": [],
   "source": [
    "# We create a new column called 'combined_text' by concatenating the\n",
    "# 'title' and 'shortened_full_text' columns.\n",
    "df['combined_text'] = df['title'].astype(str) + \" \" + df['shortened_full_text'].astype(str)"
   ]
  },
  {
   "cell_type": "code",
   "execution_count": 6,
   "id": "6017a068-bb82-4a20-bff1-f37093c5de7b",
   "metadata": {},
   "outputs": [
    {
     "data": {
      "application/vnd.jupyter.widget-view+json": {
       "model_id": "80e08fab081343c69f0883d24c1ee5c7",
       "version_major": 2,
       "version_minor": 0
      },
      "text/plain": [
       "config.json:   0%|          | 0.00/629 [00:00<?, ?B/s]"
      ]
     },
     "metadata": {},
     "output_type": "display_data"
    },
    {
     "data": {
      "application/vnd.jupyter.widget-view+json": {
       "model_id": "6a7cc04b9a1f4caeb130edf384162a8e",
       "version_major": 2,
       "version_minor": 0
      },
      "text/plain": [
       "model.safetensors:   0%|          | 0.00/268M [00:00<?, ?B/s]"
      ]
     },
     "metadata": {},
     "output_type": "display_data"
    },
    {
     "data": {
      "application/vnd.jupyter.widget-view+json": {
       "model_id": "d9b267ddb9fb42e9ab2a03bb882b5b11",
       "version_major": 2,
       "version_minor": 0
      },
      "text/plain": [
       "tokenizer_config.json:   0%|          | 0.00/48.0 [00:00<?, ?B/s]"
      ]
     },
     "metadata": {},
     "output_type": "display_data"
    },
    {
     "data": {
      "application/vnd.jupyter.widget-view+json": {
       "model_id": "57e1a1bf5fd84dd78be1f679f9ccede0",
       "version_major": 2,
       "version_minor": 0
      },
      "text/plain": [
       "vocab.txt:   0%|          | 0.00/232k [00:00<?, ?B/s]"
      ]
     },
     "metadata": {},
     "output_type": "display_data"
    },
    {
     "name": "stderr",
     "output_type": "stream",
     "text": [
      "Hardware accelerator e.g. GPU is available in the environment, but no `device` argument is passed to the `Pipeline` object. Model will be on CPU.\n"
     ]
    }
   ],
   "source": [
    "# We use the \"sentiment-analysis\" pipeline provided by Hugging Face Transformers.\n",
    "# It uses a pretrained model (e.g., \"distilbert-base-uncased-finetuned-sst-2-english\")\n",
    "# under the hood, which is well-suited for simple sentiment classification tasks.\n",
    "# We specify 'truncation=True' and 'max_length=512' to ensure that any text \n",
    "# longer than 512 tokens is truncated to avoid runtime errors.\n",
    "sentiment_pipeline = pipeline(\n",
    "    \"sentiment-analysis\",\n",
    "    model=\"distilbert-base-uncased-finetuned-sst-2-english\",\n",
    "    tokenizer=\"distilbert-base-uncased-finetuned-sst-2-english\",\n",
    "    truncation=True,\n",
    "    max_length=512\n",
    ")\n",
    "\n"
   ]
  },
  {
   "cell_type": "code",
   "execution_count": 7,
   "id": "e0630e3e-73b2-45cf-839c-bfdcd6e85518",
   "metadata": {},
   "outputs": [],
   "source": [
    "# We create a new column called 'sentiment_result' to store the sentiment\n",
    "# (i.e., 'POSITIVE' or 'NEGATIVE') and the confidence score.\n",
    "# The pipeline returns a list of dictionaries with keys like 'label' and 'score'.\n",
    "sentiments = []\n",
    "for text in df['combined_text']:\n",
    "    result = sentiment_pipeline(text)[0]  # The pipeline returns a list of predictions\n",
    "    sentiments.append(result)\n",
    "\n",
    "# Convert the list of dictionaries into separate columns in the DataFrame\n",
    "df['sentiment_label'] = [res['label'] for res in sentiments]\n",
    "df['sentiment_score'] = [res['score'] for res in sentiments]"
   ]
  },
  {
   "cell_type": "code",
   "execution_count": 8,
   "id": "7ea4f6e7-5a15-4768-a339-aa8a13252580",
   "metadata": {},
   "outputs": [
    {
     "name": "stdout",
     "output_type": "stream",
     "text": [
      "Sentiment distribution:\n",
      " sentiment_label\n",
      "NEGATIVE    1608\n",
      "POSITIVE     644\n",
      "Name: count, dtype: int64\n",
      "\n",
      "Average sentiment score: 0.9413357643843968\n",
      "Max sentiment score: 0.9997830986976624\n",
      "Min sentiment score: 0.5006784796714783\n"
     ]
    }
   ],
   "source": [
    "# Let's see how many entries are classified as POSITIVE vs. NEGATIVE.\n",
    "sentiment_counts = df['sentiment_label'].value_counts()\n",
    "print(\"Sentiment distribution:\\n\", sentiment_counts)\n",
    "\n",
    "# You may also want to compute some basic statistics of the confidence scores.\n",
    "print(\"\\nAverage sentiment score:\", df['sentiment_score'].mean())\n",
    "print(\"Max sentiment score:\", df['sentiment_score'].max())\n",
    "print(\"Min sentiment score:\", df['sentiment_score'].min())"
   ]
  },
  {
   "cell_type": "code",
   "execution_count": 9,
   "id": "a5e3fd95-d993-4823-ab91-bc10a7498aa4",
   "metadata": {},
   "outputs": [
    {
     "data": {
      "text/html": [
       "<div>\n",
       "<style scoped>\n",
       "    .dataframe tbody tr th:only-of-type {\n",
       "        vertical-align: middle;\n",
       "    }\n",
       "\n",
       "    .dataframe tbody tr th {\n",
       "        vertical-align: top;\n",
       "    }\n",
       "\n",
       "    .dataframe thead th {\n",
       "        text-align: right;\n",
       "    }\n",
       "</style>\n",
       "<table border=\"1\" class=\"dataframe\">\n",
       "  <thead>\n",
       "    <tr style=\"text-align: right;\">\n",
       "      <th></th>\n",
       "      <th>source</th>\n",
       "      <th>article_url</th>\n",
       "      <th>title</th>\n",
       "      <th>date</th>\n",
       "      <th>shortened_full_text</th>\n",
       "      <th>combined_text</th>\n",
       "      <th>sentiment_label</th>\n",
       "      <th>sentiment_score</th>\n",
       "    </tr>\n",
       "  </thead>\n",
       "  <tbody>\n",
       "    <tr>\n",
       "      <th>0</th>\n",
       "      <td>BBC</td>\n",
       "      <td>https://www.bbc.com/news/articles/c9vkxvk91gjo</td>\n",
       "      <td>Owner and architect of Turkey quake collapse h...</td>\n",
       "      <td>3 days ago</td>\n",
       "      <td>A court in Turkey has sentenced the owner and ...</td>\n",
       "      <td>Owner and architect of Turkey quake collapse h...</td>\n",
       "      <td>NEGATIVE</td>\n",
       "      <td>0.997099</td>\n",
       "    </tr>\n",
       "    <tr>\n",
       "      <th>1</th>\n",
       "      <td>BBC</td>\n",
       "      <td>https://www.bbc.com/news/articles/clyvzgjpewgo</td>\n",
       "      <td>Twelve dead in Turkey ammunition factory blast</td>\n",
       "      <td>4 days ago</td>\n",
       "      <td>An explosion at an ammunition and explosives f...</td>\n",
       "      <td>Twelve dead in Turkey ammunition factory blast...</td>\n",
       "      <td>NEGATIVE</td>\n",
       "      <td>0.985122</td>\n",
       "    </tr>\n",
       "    <tr>\n",
       "      <th>2</th>\n",
       "      <td>BBC</td>\n",
       "      <td>https://www.bbc.com/news/videos/ckgnzg5e9y3o</td>\n",
       "      <td>Watch: Cargo ship tips on its side in Turkey</td>\n",
       "      <td>4 days ago</td>\n",
       "      <td>A ship docked at a port in Istanbul rolled on ...</td>\n",
       "      <td>Watch: Cargo ship tips on its side in Turkey A...</td>\n",
       "      <td>NEGATIVE</td>\n",
       "      <td>0.983483</td>\n",
       "    </tr>\n",
       "    <tr>\n",
       "      <th>3</th>\n",
       "      <td>BBC</td>\n",
       "      <td>https://www.bbc.com/news/articles/cvgx3r4nd2mo</td>\n",
       "      <td>'Danger of IS resurgence has doubled'  - Syria...</td>\n",
       "      <td>8 days ago</td>\n",
       "      <td>The risk of an IS resurgence is heightened, he...</td>\n",
       "      <td>'Danger of IS resurgence has doubled'  - Syria...</td>\n",
       "      <td>NEGATIVE</td>\n",
       "      <td>0.584935</td>\n",
       "    </tr>\n",
       "    <tr>\n",
       "      <th>4</th>\n",
       "      <td>BBC</td>\n",
       "      <td>https://www.bbc.com/news/articles/c4gp8kx6r8yo</td>\n",
       "      <td>Trio tackle bike ride for Turkey lift shaft vi...</td>\n",
       "      <td>13 Dec 2024</td>\n",
       "      <td>The brother and friends of a man who was found...</td>\n",
       "      <td>Trio tackle bike ride for Turkey lift shaft vi...</td>\n",
       "      <td>NEGATIVE</td>\n",
       "      <td>0.972911</td>\n",
       "    </tr>\n",
       "    <tr>\n",
       "      <th>5</th>\n",
       "      <td>BBC</td>\n",
       "      <td>https://www.bbc.com/news/articles/cvgr7v1evvgo</td>\n",
       "      <td>Ethiopia and Somalia agree to end bitter Somal...</td>\n",
       "      <td>12 Dec 2024</td>\n",
       "      <td>Ethiopia and Somalia have agreed to end their ...</td>\n",
       "      <td>Ethiopia and Somalia agree to end bitter Somal...</td>\n",
       "      <td>POSITIVE</td>\n",
       "      <td>0.997438</td>\n",
       "    </tr>\n",
       "    <tr>\n",
       "      <th>6</th>\n",
       "      <td>BBC</td>\n",
       "      <td>https://www.bbc.com/news/articles/cd75e8gdy9jo</td>\n",
       "      <td>The global players in Syria before and after A...</td>\n",
       "      <td>10 Dec 2024</td>\n",
       "      <td>Those with a vested interest in the conflict a...</td>\n",
       "      <td>The global players in Syria before and after A...</td>\n",
       "      <td>NEGATIVE</td>\n",
       "      <td>0.975248</td>\n",
       "    </tr>\n",
       "    <tr>\n",
       "      <th>7</th>\n",
       "      <td>BBC</td>\n",
       "      <td>https://www.bbc.com/news/articles/cvg6eeg87lqo</td>\n",
       "      <td>Turkey's 3m Syrian refugees face big decision ...</td>\n",
       "      <td>10 Dec 2024</td>\n",
       "      <td>Syrian refugees have been celebrating the fall...</td>\n",
       "      <td>Turkey's 3m Syrian refugees face big decision ...</td>\n",
       "      <td>NEGATIVE</td>\n",
       "      <td>0.959378</td>\n",
       "    </tr>\n",
       "    <tr>\n",
       "      <th>8</th>\n",
       "      <td>BBC</td>\n",
       "      <td>https://www.bbc.com/news/articles/cvg6kd41196o</td>\n",
       "      <td>'We're having to investigate our grandson's de...</td>\n",
       "      <td>7 Dec 2024</td>\n",
       "      <td>But less than 36 hours after landing in Turkey...</td>\n",
       "      <td>'We're having to investigate our grandson's de...</td>\n",
       "      <td>NEGATIVE</td>\n",
       "      <td>0.997697</td>\n",
       "    </tr>\n",
       "    <tr>\n",
       "      <th>9</th>\n",
       "      <td>BBC</td>\n",
       "      <td>https://www.bbc.com/news/articles/cdr0dvm7rpgo</td>\n",
       "      <td>Man was drinking before lift shaft fall - police</td>\n",
       "      <td>6 Dec 2024</td>\n",
       "      <td>A British tourist found in a lift shaft in a T...</td>\n",
       "      <td>Man was drinking before lift shaft fall - poli...</td>\n",
       "      <td>NEGATIVE</td>\n",
       "      <td>0.998349</td>\n",
       "    </tr>\n",
       "  </tbody>\n",
       "</table>\n",
       "</div>"
      ],
      "text/plain": [
       "  source                                     article_url  \\\n",
       "0    BBC  https://www.bbc.com/news/articles/c9vkxvk91gjo   \n",
       "1    BBC  https://www.bbc.com/news/articles/clyvzgjpewgo   \n",
       "2    BBC    https://www.bbc.com/news/videos/ckgnzg5e9y3o   \n",
       "3    BBC  https://www.bbc.com/news/articles/cvgx3r4nd2mo   \n",
       "4    BBC  https://www.bbc.com/news/articles/c4gp8kx6r8yo   \n",
       "5    BBC  https://www.bbc.com/news/articles/cvgr7v1evvgo   \n",
       "6    BBC  https://www.bbc.com/news/articles/cd75e8gdy9jo   \n",
       "7    BBC  https://www.bbc.com/news/articles/cvg6eeg87lqo   \n",
       "8    BBC  https://www.bbc.com/news/articles/cvg6kd41196o   \n",
       "9    BBC  https://www.bbc.com/news/articles/cdr0dvm7rpgo   \n",
       "\n",
       "                                               title         date  \\\n",
       "0  Owner and architect of Turkey quake collapse h...   3 days ago   \n",
       "1     Twelve dead in Turkey ammunition factory blast   4 days ago   \n",
       "2       Watch: Cargo ship tips on its side in Turkey   4 days ago   \n",
       "3  'Danger of IS resurgence has doubled'  - Syria...   8 days ago   \n",
       "4  Trio tackle bike ride for Turkey lift shaft vi...  13 Dec 2024   \n",
       "5  Ethiopia and Somalia agree to end bitter Somal...  12 Dec 2024   \n",
       "6  The global players in Syria before and after A...  10 Dec 2024   \n",
       "7  Turkey's 3m Syrian refugees face big decision ...  10 Dec 2024   \n",
       "8  'We're having to investigate our grandson's de...   7 Dec 2024   \n",
       "9   Man was drinking before lift shaft fall - police   6 Dec 2024   \n",
       "\n",
       "                                 shortened_full_text  \\\n",
       "0  A court in Turkey has sentenced the owner and ...   \n",
       "1  An explosion at an ammunition and explosives f...   \n",
       "2  A ship docked at a port in Istanbul rolled on ...   \n",
       "3  The risk of an IS resurgence is heightened, he...   \n",
       "4  The brother and friends of a man who was found...   \n",
       "5  Ethiopia and Somalia have agreed to end their ...   \n",
       "6  Those with a vested interest in the conflict a...   \n",
       "7  Syrian refugees have been celebrating the fall...   \n",
       "8  But less than 36 hours after landing in Turkey...   \n",
       "9  A British tourist found in a lift shaft in a T...   \n",
       "\n",
       "                                       combined_text sentiment_label  \\\n",
       "0  Owner and architect of Turkey quake collapse h...        NEGATIVE   \n",
       "1  Twelve dead in Turkey ammunition factory blast...        NEGATIVE   \n",
       "2  Watch: Cargo ship tips on its side in Turkey A...        NEGATIVE   \n",
       "3  'Danger of IS resurgence has doubled'  - Syria...        NEGATIVE   \n",
       "4  Trio tackle bike ride for Turkey lift shaft vi...        NEGATIVE   \n",
       "5  Ethiopia and Somalia agree to end bitter Somal...        POSITIVE   \n",
       "6  The global players in Syria before and after A...        NEGATIVE   \n",
       "7  Turkey's 3m Syrian refugees face big decision ...        NEGATIVE   \n",
       "8  'We're having to investigate our grandson's de...        NEGATIVE   \n",
       "9  Man was drinking before lift shaft fall - poli...        NEGATIVE   \n",
       "\n",
       "   sentiment_score  \n",
       "0         0.997099  \n",
       "1         0.985122  \n",
       "2         0.983483  \n",
       "3         0.584935  \n",
       "4         0.972911  \n",
       "5         0.997438  \n",
       "6         0.975248  \n",
       "7         0.959378  \n",
       "8         0.997697  \n",
       "9         0.998349  "
      ]
     },
     "metadata": {},
     "output_type": "display_data"
    }
   ],
   "source": [
    "# We'll display a sample of the DataFrame to observe the newly added columns.\n",
    "display(df[['source', 'article_url', 'title', 'date', 'shortened_full_text', \n",
    "            'combined_text', 'sentiment_label', 'sentiment_score']].head(10))"
   ]
  },
  {
   "cell_type": "code",
   "execution_count": 10,
   "id": "4453694a-e6e4-405a-b342-0be6d7e8ff3f",
   "metadata": {},
   "outputs": [],
   "source": [
    "df.to_csv('sentiment_analysis_results.csv', index=False)"
   ]
  },
  {
   "cell_type": "code",
   "execution_count": 11,
   "id": "fb8f9ca5-86bf-4218-a7d5-d0a381ec76ea",
   "metadata": {},
   "outputs": [
    {
     "name": "stdout",
     "output_type": "stream",
     "text": [
      "NEGATIVE count in df_balanced: 500\n",
      "POSITIVE count in df_balanced: 500\n",
      "Total rows: 1000\n"
     ]
    }
   ],
   "source": [
    "# ---------------------------------------------------------\n",
    "# Balancing the Data and Saving to a New CSV\n",
    "#\n",
    "# Below is an example of how you can take your DataFrame (df) \n",
    "# which contains imbalanced classes (NEGATIVE: 1608, POSITIVE: 644),\n",
    "# and create a balanced sample of exactly 1000 rows in total:\n",
    "# 500 NEGATIVE and 500 POSITIVE.\n",
    "#\n",
    "# Note: \n",
    "# - We assume that you have enough NEGATIVE and POSITIVE rows \n",
    "#   to achieve the desired split (500 of each).\n",
    "# - If POSITIVE class does not have at least 500 rows, you \n",
    "#   will need to adjust the sample size accordingly.\n",
    "# ---------------------------------------------------------\n",
    "\n",
    "import pandas as pd\n",
    "\n",
    "# Filter the DataFrame by each sentiment class\n",
    "df_negative = df[df['sentiment_label'] == 'NEGATIVE']\n",
    "df_positive = df[df['sentiment_label'] == 'POSITIVE']\n",
    "\n",
    "# Randomly sample 500 rows from each class\n",
    "# Adjust the random_state to any integer for reproducibility\n",
    "df_negative_500 = df_negative.sample(500, random_state=42)\n",
    "df_positive_500 = df_positive.sample(500, random_state=42)\n",
    "\n",
    "# Concatenate the two subsets into a single balanced DataFrame\n",
    "df_balanced = pd.concat([df_negative_500, df_positive_500])\n",
    "\n",
    "# Shuffle the resulting DataFrame to interleave classes\n",
    "df_balanced = df_balanced.sample(frac=1, random_state=42).reset_index(drop=True)\n",
    "\n",
    "# Save the balanced DataFrame to a new CSV\n",
    "df_balanced.to_csv('balanced_data_1000.csv', index=False)\n",
    "\n",
    "# 6. Quick verification\n",
    "print(\"NEGATIVE count in df_balanced:\", sum(df_balanced['sentiment_label'] == 'NEGATIVE'))\n",
    "print(\"POSITIVE count in df_balanced:\", sum(df_balanced['sentiment_label'] == 'POSITIVE'))\n",
    "print(\"Total rows:\", len(df_balanced))"
   ]
  },
  {
   "cell_type": "code",
   "execution_count": null,
   "id": "34e58c3f-0ed0-4df2-9925-9142481483ef",
   "metadata": {},
   "outputs": [],
   "source": []
  }
 ],
 "metadata": {
  "kernelspec": {
   "display_name": "Python (sentiment_env_v35)",
   "language": "python",
   "name": "sentiment_env_v35"
  },
  "language_info": {
   "codemirror_mode": {
    "name": "ipython",
    "version": 3
   },
   "file_extension": ".py",
   "mimetype": "text/x-python",
   "name": "python",
   "nbconvert_exporter": "python",
   "pygments_lexer": "ipython3",
   "version": "3.8.20"
  }
 },
 "nbformat": 4,
 "nbformat_minor": 5
}
